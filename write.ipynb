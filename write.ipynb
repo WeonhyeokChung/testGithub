{
 "cells": [
  {
   "cell_type": "markdown",
   "metadata": {},
   "source": [
    "Testing GitHub with VS Code"
   ]
  },
  {
   "cell_type": "code",
   "execution_count": 34,
   "metadata": {},
   "outputs": [
    {
     "data": {
      "text/plain": [
       "8"
      ]
     },
     "execution_count": 34,
     "metadata": {},
     "output_type": "execute_result"
    }
   ],
   "source": [
    "a = 4\n",
    "b = 2\n",
    "\n",
    "c = a*b\n",
    "\n",
    "c"
   ]
  },
  {
   "cell_type": "markdown",
   "metadata": {},
   "source": [
    "Test with Excel Data"
   ]
  },
  {
   "cell_type": "code",
   "execution_count": 35,
   "metadata": {},
   "outputs": [
    {
     "name": "stdout",
     "output_type": "stream",
     "text": [
      "count         83\n",
      "unique        31\n",
      "top       25,000\n",
      "freq          14\n",
      "Name: deposit, dtype: object\n"
     ]
    }
   ],
   "source": [
    "import pandas as pd\n",
    "\n",
    "# Step 1: Read the Excel file\n",
    "file_path = 'data/ggy_junwol_20240616.xlsx'\n",
    "df = pd.read_excel(file_path)\n",
    "\n",
    "# Step 2: Filter the data where monthly is 0\n",
    "filtered_df = df[df['monthly'] == 0]\n",
    "\n",
    "# Step 3: Get the summary of the column deposit\n",
    "summary = filtered_df['deposit'].describe()\n",
    "\n",
    "print(summary)\n",
    "\n"
   ]
  },
  {
   "cell_type": "markdown",
   "metadata": {},
   "source": [
    "한글도 가능한지 테스트"
   ]
  },
  {
   "cell_type": "code",
   "execution_count": 37,
   "metadata": {},
   "outputs": [
    {
     "name": "stdout",
     "output_type": "stream",
     "text": [
      "count     83.000000\n",
      "mean      65.194337\n",
      "std       19.312013\n",
      "min       15.000000\n",
      "25%       57.460000\n",
      "50%       62.000000\n",
      "75%       66.000000\n",
      "max      126.000000\n",
      "Name: 면적, dtype: float64\n"
     ]
    }
   ],
   "source": [
    "summary2 = filtered_df['면적'].describe()\n",
    "print(summary2)"
   ]
  }
 ],
 "metadata": {
  "kernelspec": {
   "display_name": "Python 3",
   "language": "python",
   "name": "python3"
  },
  "language_info": {
   "codemirror_mode": {
    "name": "ipython",
    "version": 3
   },
   "file_extension": ".py",
   "mimetype": "text/x-python",
   "name": "python",
   "nbconvert_exporter": "python",
   "pygments_lexer": "ipython3",
   "version": "3.12.4"
  }
 },
 "nbformat": 4,
 "nbformat_minor": 2
}
